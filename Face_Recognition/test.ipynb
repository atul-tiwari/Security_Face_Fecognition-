{
 "cells": [
  {
   "cell_type": "code",
   "execution_count": null,
   "metadata": {},
   "outputs": [],
   "source": [
    "import glob\n",
    "import shutil\n",
    "directory = \"G:\\Personal Projects\\Security_Face_Recognition\\lfw_funneled\\*\"\n",
    "for f in glob.glob(directory):\n",
    "    if len(list(glob.glob(f+'\\*'))) <8:\n",
    "        try:\n",
    "            shutil.rmtree(f)\n",
    "        except:\n",
    "            pass\n",
    "        print(\"Delete \",f)\n",
    "    else:\n",
    "        print(\"keep \",f)\n"
   ]
  },
  {
   "cell_type": "code",
   "execution_count": 61,
   "metadata": {},
   "outputs": [],
   "source": [
    "import cv2\n",
    "import face_recognition\n",
    "import numpy as np\n",
    "\n",
    "face_encodings = []\n",
    "face_ids = []\n",
    "# Function to train the model on new face data\n",
    "def train_faces(new_face_data):\n",
    "    # new_face_data is a list of image file paths for the new faces\n",
    "    for image_path in new_face_data:\n",
    "        image = cv2.imread(image_path)\n",
    "        face_locations = face_recognition.face_locations(image)\n",
    "        if len(face_locations) == 1:\n",
    "            face_encoding = face_recognition.face_encodings(image, face_locations)[0]\n",
    "            face_encodings.append(face_encoding)\n",
    "            # Assign an id to the face\n",
    "            face_id = len(face_encodings) - 1\n",
    "            face_ids.append(face_id)\n",
    "    return face_ids\n",
    "\n",
    "# Function to delete a face from the model\n",
    "def delete_face(face_id):\n",
    "    # To delete a face, we simply remove the corresponding face encoding from the list\n",
    "    del face_encodings[face_id]\n",
    "\n",
    "# Function to check a face\n",
    "def check_face(image_path):\n",
    "    image = cv2.imread(image_path)\n",
    "    face_locations = face_recognition.face_locations(image)\n",
    "    if len(face_locations) == 1:\n",
    "        face_encoding = face_recognition.face_encodings(image, face_locations)[0]\n",
    "        # Compare the face encoding with all the saved encodings\n",
    "        matches = face_recognition.compare_faces(face_encodings, face_encoding)\n",
    "        if True in matches:\n",
    "            # Return the id of the first matching face\n",
    "            return matches.index(True)\n",
    "    return None\n"
   ]
  },
  {
   "cell_type": "code",
   "execution_count": 66,
   "metadata": {},
   "outputs": [
    {
     "name": "stdout",
     "output_type": "stream",
     "text": [
      "[0, 1, 2, 3, 4, 5, 6, 7, 8]\n",
      "Unknown face\n"
     ]
    }
   ],
   "source": [
    "# Example usage\n",
    "face_encodings = []\n",
    "photo_list = list(glob.glob('G:\\Personal Projects\\Security_Face_Recognition\\lfw_funneled\\Tom_Cruise\\*'))\n",
    "new_face_data = photo_list[:-1]\n",
    "face_ids = train_faces(new_face_data)\n",
    "print(face_ids)\n",
    "\n",
    "face_id_to_delete = 1\n",
    "delete_face(face_id_to_delete)\n",
    "\n",
    "image_to_check = \"G:\\Personal Projects\\Security_Face_Recognition\\lfw_funneled\\Bill_Gates\\Bill_Gates_0001.jpg\"\n",
    "face_id = check_face(image_to_check)\n",
    "if face_id is not None:\n",
    "    print('The face belongs to id:', face_id)\n",
    "else:\n",
    "    print('Unknown face')"
   ]
  },
  {
   "cell_type": "code",
   "execution_count": 71,
   "metadata": {},
   "outputs": [
    {
     "data": {
      "text/plain": [
       "128"
      ]
     },
     "execution_count": 71,
     "metadata": {},
     "output_type": "execute_result"
    }
   ],
   "source": [
    "len(face_encodings[5])"
   ]
  },
  {
   "cell_type": "code",
   "execution_count": 47,
   "metadata": {},
   "outputs": [],
   "source": [
    "# Create a new instance of the FaceRecognition class\n",
    "fr = FaceRecognition(mode=2)\n",
    "photo_list = list(glob.glob('G:\\Personal Projects\\Security_Face_Recognition\\lfw_funneled\\Tom_Cruise\\*'))\n",
    "# Add new faces\n",
    "face_id1 = fr.add_new_face(photo_list[:-1])\n",
    "#face_id2 = fr.add_new_face([\"https://example.com/image3.jpg\", \"https://example.com/image4.jpg\"])"
   ]
  },
  {
   "cell_type": "code",
   "execution_count": 55,
   "metadata": {},
   "outputs": [
    {
     "name": "stdout",
     "output_type": "stream",
     "text": [
      "Face ID: 8\n"
     ]
    }
   ],
   "source": [
    "#fr.delete_face(face_id1)\n",
    "\n",
    "# Check a face\n",
    "face_id = fr.check_face(photo_list[8])\n",
    "if isinstance(face_id, int):\n",
    "    print(\"Face ID:\", face_id)\n",
    "else:\n",
    "    print(face_id)"
   ]
  },
  {
   "cell_type": "code",
   "execution_count": 40,
   "metadata": {},
   "outputs": [
    {
     "data": {
      "text/plain": [
       "'G:\\\\Personal Projects\\\\Security_Face_Recognition\\\\lfw_funneled\\\\Tom_Cruise\\\\Tom_Cruise_0010.jpg'"
      ]
     },
     "execution_count": 40,
     "metadata": {},
     "output_type": "execute_result"
    }
   ],
   "source": [
    "photo_list[-1]"
   ]
  },
  {
   "cell_type": "code",
   "execution_count": 60,
   "metadata": {},
   "outputs": [],
   "source": [
    "import face_recognition"
   ]
  },
  {
   "cell_type": "code",
   "execution_count": 59,
   "metadata": {},
   "outputs": [
    {
     "name": "stdout",
     "output_type": "stream",
     "text": [
      "Collecting face_recognition\n",
      "  Using cached face_recognition-1.3.0-py2.py3-none-any.whl (15 kB)\n",
      "Collecting dlib>=19.7\n",
      "  Using cached dlib-19.24.1.tar.gz (3.2 MB)\n",
      "  Preparing metadata (setup.py): started\n",
      "  Preparing metadata (setup.py): finished with status 'done'\n",
      "Requirement already satisfied: Click>=6.0 in g:\\personal projects\\security_face_recognition\\lib\\site-packages (from face_recognition) (8.1.3)\n",
      "Requirement already satisfied: numpy in g:\\personal projects\\security_face_recognition\\lib\\site-packages (from face_recognition) (1.24.2)\n",
      "Requirement already satisfied: Pillow in g:\\personal projects\\security_face_recognition\\lib\\site-packages (from face_recognition) (9.5.0)\n",
      "Requirement already satisfied: face-recognition-models>=0.3.0 in g:\\personal projects\\security_face_recognition\\lib\\site-packages (from face_recognition) (0.3.0)\n",
      "Requirement already satisfied: colorama in g:\\personal projects\\security_face_recognition\\lib\\site-packages (from Click>=6.0->face_recognition) (0.4.6)\n",
      "Installing collected packages: dlib, face_recognition\n",
      "  Running setup.py install for dlib: started\n",
      "  Running setup.py install for dlib: still running...\n",
      "  Running setup.py install for dlib: still running...\n",
      "  Running setup.py install for dlib: still running...\n",
      "  Running setup.py install for dlib: finished with status 'done'\n",
      "Successfully installed dlib-19.24.1 face_recognition-1.3.0\n"
     ]
    },
    {
     "name": "stderr",
     "output_type": "stream",
     "text": [
      "  DEPRECATION: dlib is being installed using the legacy 'setup.py install' method, because it does not have a 'pyproject.toml' and the 'wheel' package is not installed. pip 23.1 will enforce this behaviour change. A possible replacement is to enable the '--use-pep517' option. Discussion can be found at https://github.com/pypa/pip/issues/8559\n"
     ]
    }
   ],
   "source": [
    "!pip install face_recognition"
   ]
  },
  {
   "cell_type": "code",
   "execution_count": null,
   "metadata": {},
   "outputs": [],
   "source": []
  }
 ],
 "metadata": {
  "kernelspec": {
   "display_name": "Security_Face_Recognition",
   "language": "python",
   "name": "python3"
  },
  "language_info": {
   "codemirror_mode": {
    "name": "ipython",
    "version": 3
   },
   "file_extension": ".py",
   "mimetype": "text/x-python",
   "name": "python",
   "nbconvert_exporter": "python",
   "pygments_lexer": "ipython3",
   "version": "3.10.0"
  },
  "orig_nbformat": 4
 },
 "nbformat": 4,
 "nbformat_minor": 2
}
