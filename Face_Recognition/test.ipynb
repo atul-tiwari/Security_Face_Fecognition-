{
 "cells": [
  {
   "cell_type": "code",
   "execution_count": null,
   "metadata": {},
   "outputs": [],
   "source": [
    "import glob\n",
    "import shutil\n",
    "directory = \"G:\\Personal Projects\\Security_Face_Recognition\\lfw_funneled\\*\"\n",
    "for f in glob.glob(directory):\n",
    "    if len(list(glob.glob(f+'\\*'))) <8:\n",
    "        try:\n",
    "            shutil.rmtree(f)\n",
    "        except:\n",
    "            pass\n",
    "        print(\"Delete \",f)\n",
    "    else:\n",
    "        print(\"keep \",f)\n"
   ]
  },
  {
   "cell_type": "code",
   "execution_count": null,
   "metadata": {},
   "outputs": [],
   "source": [
    "import cv2\n",
    "import face_recognition\n",
    "import numpy as np\n",
    "\n",
    "face_encodings = []\n",
    "face_ids = []\n",
    "# Function to train the model on new face data\n",
    "def train_faces(new_face_data):\n",
    "    # new_face_data is a list of image file paths for the new faces\n",
    "    for image_path in new_face_data:\n",
    "        image = cv2.imread(image_path)\n",
    "        face_locations = face_recognition.face_locations(image)\n",
    "        if len(face_locations) == 1:\n",
    "            face_encoding = face_recognition.face_encodings(image, face_locations)[0]\n",
    "            face_encodings.append(face_encoding)\n",
    "            # Assign an id to the face\n",
    "            face_id = len(face_encodings) - 1\n",
    "            face_ids.append(face_id)\n",
    "    return face_ids\n",
    "\n",
    "# Function to delete a face from the model\n",
    "def delete_face(face_id):\n",
    "    # To delete a face, we simply remove the corresponding face encoding from the list\n",
    "    del face_encodings[face_id]\n",
    "\n",
    "# Function to check a face\n",
    "def check_face(image_path):\n",
    "    image = cv2.imread(image_path)\n",
    "    face_locations = face_recognition.face_locations(image)\n",
    "    if len(face_locations) == 1:\n",
    "        face_encoding = face_recognition.face_encodings(image, face_locations)[0]\n",
    "        # Compare the face encoding with all the saved encodings\n",
    "        matches = face_recognition.compare_faces(face_encodings, face_encoding)\n",
    "        if True in matches:\n",
    "            # Return the id of the first matching face\n",
    "            return matches.index(True)\n",
    "    return None\n"
   ]
  },
  {
   "cell_type": "code",
   "execution_count": null,
   "metadata": {},
   "outputs": [],
   "source": [
    "# Example usage\n",
    "face_encodings = []\n",
    "photo_list = list(glob.glob('G:\\Personal Projects\\Security_Face_Recognition\\lfw_funneled\\Tom_Cruise\\*'))\n",
    "new_face_data = photo_list[:-1]\n",
    "face_ids = train_faces(new_face_data)\n",
    "print(face_ids)\n",
    "\n",
    "face_id_to_delete = 1\n",
    "delete_face(face_id_to_delete)\n",
    "\n",
    "image_to_check = \"G:\\Personal Projects\\Security_Face_Recognition\\lfw_funneled\\Bill_Gates\\Bill_Gates_0001.jpg\"\n",
    "face_id = check_face(image_to_check)\n",
    "if face_id is not None:\n",
    "    print('The face belongs to id:', face_id)\n",
    "else:\n",
    "    print('Unknown face')"
   ]
  },
  {
   "cell_type": "code",
   "execution_count": null,
   "metadata": {},
   "outputs": [],
   "source": [
    "len(face_encodings[5])"
   ]
  },
  {
   "cell_type": "code",
   "execution_count": null,
   "metadata": {},
   "outputs": [],
   "source": [
    "# Create a new instance of the FaceRecognition class\n",
    "fr = FaceRecognition(mode=2)\n",
    "photo_list = list(glob.glob('G:\\Personal Projects\\Security_Face_Recognition\\lfw_funneled\\Tom_Cruise\\*'))\n",
    "# Add new faces\n",
    "face_id1 = fr.add_new_face(photo_list[:-1])\n",
    "#face_id2 = fr.add_new_face([\"https://example.com/image3.jpg\", \"https://example.com/image4.jpg\"])"
   ]
  },
  {
   "cell_type": "code",
   "execution_count": null,
   "metadata": {},
   "outputs": [],
   "source": [
    "#fr.delete_face(face_id1)\n",
    "\n",
    "# Check a face\n",
    "face_id = fr.check_face(photo_list[8])\n",
    "if isinstance(face_id, int):\n",
    "    print(\"Face ID:\", face_id)\n",
    "else:\n",
    "    print(face_id)"
   ]
  },
  {
   "cell_type": "code",
   "execution_count": null,
   "metadata": {},
   "outputs": [],
   "source": [
    "photo_list[-1]"
   ]
  },
  {
   "cell_type": "code",
   "execution_count": null,
   "metadata": {},
   "outputs": [],
   "source": [
    "import face_recognition"
   ]
  },
  {
   "cell_type": "code",
   "execution_count": null,
   "metadata": {},
   "outputs": [],
   "source": [
    "!pip install face_recognition"
   ]
  },
  {
   "cell_type": "code",
   "execution_count": null,
   "metadata": {},
   "outputs": [],
   "source": [
    "with open(\"G:\\Personal Projects\\Security_Face_Recognition\\lfw_funneled\\Bill_Gates\\Bill_Gates_0001.jpg\",'rb') as f:\n",
    "    data = str(f.readlines())"
   ]
  },
  {
   "cell_type": "code",
   "execution_count": null,
   "metadata": {},
   "outputs": [],
   "source": [
    "list_data= eval(data)"
   ]
  },
  {
   "cell_type": "code",
   "execution_count": null,
   "metadata": {},
   "outputs": [],
   "source": [
    "with open(\"abc.jpg\",'wb') as f:\n",
    "    f.writelines(list_data)\n"
   ]
  },
  {
   "cell_type": "code",
   "execution_count": null,
   "metadata": {},
   "outputs": [],
   "source": [
    "from Face_Recognition.FaceClass import *\n",
    "\n",
    "model = FaceClass()"
   ]
  },
  {
   "cell_type": "code",
   "execution_count": null,
   "metadata": {},
   "outputs": [],
   "source": [
    "save_model(model)"
   ]
  },
  {
   "cell_type": "code",
   "execution_count": null,
   "metadata": {},
   "outputs": [],
   "source": [
    "\n",
    "from datetime import datetime\n",
    "now = datetime.now().strftime(\"%Y-%m-%d %H:%M:%S\")\n",
    "print(\"date and time:\",now)"
   ]
  },
  {
   "cell_type": "code",
   "execution_count": null,
   "metadata": {},
   "outputs": [],
   "source": [
    "import sqlite3\n",
    "connection = sqlite3.connect(\"G:\\Personal Projects\\Security_Face_Recognition\\sqllite3.db\")"
   ]
  },
  {
   "cell_type": "code",
   "execution_count": null,
   "metadata": {},
   "outputs": [],
   "source": []
  }
 ],
 "metadata": {
  "kernelspec": {
   "display_name": "Security_Face_Recognition",
   "language": "python",
   "name": "python3"
  },
  "language_info": {
   "codemirror_mode": {
    "name": "ipython",
    "version": 3
   },
   "file_extension": ".py",
   "mimetype": "text/x-python",
   "name": "python",
   "nbconvert_exporter": "python",
   "pygments_lexer": "ipython3",
   "version": "3.10.0"
  },
  "orig_nbformat": 4
 },
 "nbformat": 4,
 "nbformat_minor": 2
}
